{
 "cells": [
  {
   "cell_type": "markdown",
   "id": "358fec31",
   "metadata": {},
   "source": [
    "# Chi-Square Goodness of Fit Test"
   ]
  },
  {
   "cell_type": "markdown",
   "id": "4698f72f",
   "metadata": {},
   "source": [
    "# 0.0 What is Chi-Square (χ2) Test?"
   ]
  },
  {
   "cell_type": "markdown",
   "id": "3bc31364",
   "metadata": {},
   "source": [
    "Chi-Square test refers to tests for which the distribution of the test statistic approaches the $χ^{2}$ distribution asymptotically, meaning that the sampling distribution (if the null hypothesis is true) of the test statistic approximates a chi-squared distribution more and more closely as sample sizes increase\n",
    "\n",
    "**Formula**\n",
    "--\n",
    "Χ ∼ $χ^{2}$ . df \n",
    "\n",
    "where **df** = degrees of freedom and **$χ^{2}$** = chi-square statistic\n",
    "\n",
    "For $χ^{2}$ distribution, the population mean is μ = df, the population standard deviation is σ=$\\sqrt{2df}$\n",
    "\n",
    "<img src=\"images/ChiSquare.PNG\" alt=\"drawing\" width=\"500\"/> \n",
    "\n",
    "\n",
    "\n",
    "**Type of Chi-Square Test**\n",
    "--\n",
    "\n",
    "**Goodness-of-fit test**\n",
    "\n",
    "- To test if sample data (1 variable) is accurate or somehow skewed relative to the known characteristics of the population\n",
    "- Example: Is the color of M&Ms in a packet evenly distributed? Is the lottery number evenly distributed? Is the dice in my hand a theoretically fair dice?\n",
    "\n",
    "\n",
    "**Test of Independence**\n",
    "\n",
    "- To test if there is relationship between 2 categorical variables (or if they are independent)\n",
    "- Example: Is there relationship between gender and course choice? Is there relationship between movie genres and age groups of the audience?\n",
    "\n",
    "\n",
    "**Test for Homogeneity**\n",
    "\n",
    "- To test if the distribution of a variable is the same in several groups\n",
    "- Example: what do high class graduates do the year after they graduate, compared across years?\n",
    "\n",
    "\n",
    "\n",
    "\n",
    "**Goodness-of-fit-test**\n",
    "--\n",
    "\n",
    "$χ^{2}_{c}$ = $\\sum \\frac{(O_{i}-E_{i})^{2}}{E_{i}}$\n",
    "\n",
    "- **Degree of Freedom (c):** df = (n -1)\n",
    "- **Observed Value (O):** sample values\n",
    "- **Expected Value (E):** values you would expect to get if the null hypothesis were true\n",
    "\n",
    "**For hypothesis testing:**\n",
    "- Null Hypothesis (${H_{o}}$): The collected data is consistent with the population distribution, i.e. sample fits.\n",
    "- Alternative Hypothesis (${H_{a}}$): The collected data is not consistent with the population distribution, i.e. the sample does not fit.\n",
    "\n",
    "This means: the lower the $χ^{2}$ , the closer it is to the population distribution.\n",
    "\n",
    "$χ^{2}$ value with a specific df is what’s used to check the associated p-value.\n"
   ]
  },
  {
   "cell_type": "markdown",
   "id": "ffc7875b",
   "metadata": {},
   "source": [
    "# 1.0 How to Perform a Chi-Square Goodness of Fit Test\n",
    "A Chi-Square Goodness of Fit Test is used to determine whether or not a categorical variable follows a hypothesized distribution."
   ]
  },
  {
   "cell_type": "code",
   "execution_count": 1,
   "id": "4c020bdb",
   "metadata": {},
   "outputs": [],
   "source": [
    "# import \n",
    "\n",
    "# calculations\n",
    "import numpy as np\n",
    "import scipy.stats as stats\n",
    "\n",
    "# plotting\n",
    "import matplotlib.pyplot as plt\n",
    "import seaborn as sns\n",
    "import pandas as pd\n",
    "\n",
    "sns.set()"
   ]
  },
  {
   "cell_type": "markdown",
   "id": "75bfa129",
   "metadata": {},
   "source": [
    "### 1.1 Scenario: \n",
    "\n",
    "A shop owner claims that an equal number of customers come into his shop each weekday. \n",
    "\n",
    "To test this hypothesis, the number of customers per day were recorded for a week. \n",
    "\n",
    "- Monday:    50 customers\n",
    "- Tuesday:   60 customers\n",
    "- Wednesday: 40 customers\n",
    "- Thursday:  47 customers\n",
    "- Friday:    53 customers"
   ]
  },
  {
   "cell_type": "code",
   "execution_count": 2,
   "id": "8b8bc452",
   "metadata": {},
   "outputs": [],
   "source": [
    "# create array for observed values\n",
    "observed = [50, 60, 40, 47, 53]"
   ]
  },
  {
   "cell_type": "markdown",
   "id": "b6033a56",
   "metadata": {},
   "source": [
    "### 1.2 Step 1: Define the hypothesis\n",
    "Performing the Chi-Square Goodness of Fit Test using the following hypotheses:\n",
    "\n",
    "- (Null Hypothesis) H0: An equal number of customers come into the shop each day.\n",
    "- (Alternative Hypothesis) H1: An equal number of customers do not come into the shop each day."
   ]
  },
  {
   "cell_type": "markdown",
   "id": "03217278",
   "metadata": {},
   "source": [
    "### 1.3 Step 2: Calculate (O-E)$^{2}$ / E for each day\n",
    "\n",
    "A total of 250 customers came into the shop in the week. \n",
    "If we expect an equal number of customers each day then the expected the value for \"expected\" each day would be 50. "
   ]
  },
  {
   "cell_type": "code",
   "execution_count": 3,
   "id": "f9dc9ed4",
   "metadata": {},
   "outputs": [],
   "source": [
    "# create array for expected values\n",
    "expected = [50, 50, 50, 50, 50]   # Hypothesis - H0: An equal number of customers come into the shop each day\n",
    "\n",
    "# set p-value\n",
    "alpha_value = 0.05"
   ]
  },
  {
   "cell_type": "markdown",
   "id": "317eeb38",
   "metadata": {},
   "source": [
    "- Monday:    (50-50)**2 / 50 = 0\n",
    "- Tuesday:   (60-50)**2 / 50 = 2\n",
    "- Wednesday: (40-50)**2 / 50 = 2\n",
    "- Thursday:  (47-50)**2 / 50 = 0.18\n",
    "- Friday:    (53-50)**2 / 50 = 0.18"
   ]
  },
  {
   "cell_type": "markdown",
   "id": "9f9d68c6",
   "metadata": {},
   "source": [
    "### 1.3 Step 3: Calculate the test statistic ($χ^{2}$)\n",
    "$χ^{2}$ = Σ(O-E)$^{2}$ / E = 0 + 2 + 2 + 0.18 + 0.18 = 4.36 "
   ]
  },
  {
   "cell_type": "code",
   "execution_count": 4,
   "id": "c2cb4116",
   "metadata": {},
   "outputs": [
    {
     "data": {
      "text/plain": [
       "4.36"
      ]
     },
     "execution_count": 4,
     "metadata": {},
     "output_type": "execute_result"
    }
   ],
   "source": [
    "# Steps 1, 2 & 3 using numpy\n",
    "expected2 = np.array([50, 50, 50, 50, 50])\n",
    "observed2 = np.array([50, 60, 40, 47, 53])\n",
    "\n",
    "chisquare_statistics = ((observed2-expected2)**2/expected).sum()\n",
    "round(chisquare_statistics,2)"
   ]
  },
  {
   "cell_type": "markdown",
   "id": "7862a591",
   "metadata": {},
   "source": [
    "### 1.4 Step 4: Calculate the p-value of the test statistic ($χ^{2}$)\n",
    "Using the Chi-Square Score to P-Value Calculator, the p-value associated with $χ^{2}$ = 4.36 and n-1 = 5-1 = 4 degrees of freedom is 0.359472.\n",
    "\n",
    "- $χ^{2}$ = 4.36\n",
    "- degrees of freedom = n-1 = 5-1 = 4\n",
    "- p-value = 0.359472"
   ]
  },
  {
   "cell_type": "code",
   "execution_count": 5,
   "id": "1738f98c",
   "metadata": {},
   "outputs": [
    {
     "data": {
      "text/plain": [
       "0.35947206743663074"
      ]
     },
     "execution_count": 5,
     "metadata": {},
     "output_type": "execute_result"
    }
   ],
   "source": [
    "# formula embeded using numpy\n",
    "1 - stats.chi2.cdf( ((observed2-expected2)**2/expected).sum(), len(observed)-1)"
   ]
  },
  {
   "cell_type": "markdown",
   "id": "6c51cbf8",
   "metadata": {},
   "source": [
    "# 2.0 Alternate calculation \n",
    "We can perform the Chi-Square Goodness of Fit Test using the chisquare function from the SciPy library, which uses the following syntax:\n",
    "\n",
    "- chisquare(observation, expected) "
   ]
  },
  {
   "cell_type": "code",
   "execution_count": 6,
   "id": "94fe1c80",
   "metadata": {},
   "outputs": [],
   "source": [
    "# Function approach\n",
    "def calculate_goodness_of_fit_test(observed,expected, alpha_test):\n",
    "    # set variables to 0 value\n",
    "    total_sum = 0\n",
    "    x = 0\n",
    "    \n",
    "    # while loop used to apply '(O-E)**2 / E' for each day and sums the values\n",
    "    while x != len(observed):\n",
    "        total_sum += ((observed[x]-expected[x]) **2)/expected[x]\n",
    "        x += 1\n",
    "    \n",
    "    # calculates the p-value\n",
    "    pvalue = 1 - stats.chi2.cdf(total_sum, len(observed)-1)\n",
    "    \n",
    "    # checks if p-value pass/fail\n",
    "    if pvalue <= alpha_test:\n",
    "        result = \"Accept Null Hypothesis\"\n",
    "    else:\n",
    "        result = \"Fail to Reject Null Hypothesis\"\n",
    "        \n",
    "    return total_sum, pvalue, result"
   ]
  },
  {
   "cell_type": "code",
   "execution_count": 7,
   "id": "9e32abe1",
   "metadata": {},
   "outputs": [
    {
     "name": "stdout",
     "output_type": "stream",
     "text": [
      "Chi-Square Goodness of Fit Test\n",
      "===============================\n",
      "Statistic:    4.359999999999999\n",
      "P-Value:      0.35947206743663074\n",
      "Alpha:        0.05\n",
      "Result:       Fail to Reject Null Hypothesis\n"
     ]
    }
   ],
   "source": [
    "statistic, pvalue, result = calculate_goodness_of_fit_test(observed, expected, alpha_value)\n",
    "\n",
    "print(\"Chi-Square Goodness of Fit Test\")\n",
    "print(\"===============================\")\n",
    "print(f'Statistic:    {statistic}')\n",
    "print(f'P-Value:      {pvalue}')\n",
    "print(f'Alpha:        {alpha_value}')\n",
    "print(f'Result:       {result}')"
   ]
  },
  {
   "cell_type": "markdown",
   "id": "ff86ef4c",
   "metadata": {},
   "source": [
    "# 3.0 Scipy stats.chisquare"
   ]
  },
  {
   "cell_type": "code",
   "execution_count": 8,
   "id": "72160b8f",
   "metadata": {},
   "outputs": [
    {
     "data": {
      "text/plain": [
       "Power_divergenceResult(statistic=4.359999999999999, pvalue=0.3594720674366307)"
      ]
     },
     "execution_count": 8,
     "metadata": {},
     "output_type": "execute_result"
    }
   ],
   "source": [
    "#perform Chi-Square Goodness of Fit Test\n",
    "stats.chisquare(observed, expected)"
   ]
  },
  {
   "cell_type": "markdown",
   "id": "4208a1f4",
   "metadata": {},
   "source": [
    "# 4.0 Visualisizing the Sample"
   ]
  },
  {
   "cell_type": "code",
   "execution_count": 9,
   "id": "a98e8414",
   "metadata": {},
   "outputs": [],
   "source": [
    "labels = {0: 'Monday' , \n",
    "          1: 'Tuesday' , \n",
    "          2 : 'Wednesday' , \n",
    "          3 : 'Thursday' , \n",
    "          4 : 'Friday'}\n",
    "observed_Value = observed\n",
    "expected_Value = expected"
   ]
  },
  {
   "cell_type": "code",
   "execution_count": 10,
   "id": "ea43e3fc",
   "metadata": {},
   "outputs": [
    {
     "data": {
      "text/html": [
       "<div>\n",
       "<style scoped>\n",
       "    .dataframe tbody tr th:only-of-type {\n",
       "        vertical-align: middle;\n",
       "    }\n",
       "\n",
       "    .dataframe tbody tr th {\n",
       "        vertical-align: top;\n",
       "    }\n",
       "\n",
       "    .dataframe thead th {\n",
       "        text-align: right;\n",
       "    }\n",
       "</style>\n",
       "<table border=\"1\" class=\"dataframe\">\n",
       "  <thead>\n",
       "    <tr style=\"text-align: right;\">\n",
       "      <th></th>\n",
       "      <th>observed_value</th>\n",
       "      <th>expected_value</th>\n",
       "    </tr>\n",
       "  </thead>\n",
       "  <tbody>\n",
       "    <tr>\n",
       "      <th>Monday</th>\n",
       "      <td>50</td>\n",
       "      <td>50</td>\n",
       "    </tr>\n",
       "    <tr>\n",
       "      <th>Tuesday</th>\n",
       "      <td>60</td>\n",
       "      <td>50</td>\n",
       "    </tr>\n",
       "    <tr>\n",
       "      <th>Wednesday</th>\n",
       "      <td>40</td>\n",
       "      <td>50</td>\n",
       "    </tr>\n",
       "    <tr>\n",
       "      <th>Thursday</th>\n",
       "      <td>47</td>\n",
       "      <td>50</td>\n",
       "    </tr>\n",
       "    <tr>\n",
       "      <th>Friday</th>\n",
       "      <td>53</td>\n",
       "      <td>50</td>\n",
       "    </tr>\n",
       "  </tbody>\n",
       "</table>\n",
       "</div>"
      ],
      "text/plain": [
       "           observed_value  expected_value\n",
       "Monday                 50              50\n",
       "Tuesday                60              50\n",
       "Wednesday              40              50\n",
       "Thursday               47              50\n",
       "Friday                 53              50"
      ]
     },
     "execution_count": 10,
     "metadata": {},
     "output_type": "execute_result"
    }
   ],
   "source": [
    "df_chi = pd.DataFrame()\n",
    "df_chi['observed_value'] = observed_Value\n",
    "df_chi['expected_value'] = expected_Value\n",
    "df_chi = df_chi.rename(index = labels)\n",
    "df_chi"
   ]
  },
  {
   "cell_type": "code",
   "execution_count": 11,
   "id": "2fe4ff95",
   "metadata": {},
   "outputs": [
    {
     "data": {
      "text/html": [
       "<div>\n",
       "<style scoped>\n",
       "    .dataframe tbody tr th:only-of-type {\n",
       "        vertical-align: middle;\n",
       "    }\n",
       "\n",
       "    .dataframe tbody tr th {\n",
       "        vertical-align: top;\n",
       "    }\n",
       "\n",
       "    .dataframe thead th {\n",
       "        text-align: right;\n",
       "    }\n",
       "</style>\n",
       "<table border=\"1\" class=\"dataframe\">\n",
       "  <thead>\n",
       "    <tr style=\"text-align: right;\">\n",
       "      <th></th>\n",
       "      <th>observed_value</th>\n",
       "      <th>expected_value</th>\n",
       "      <th>difference</th>\n",
       "      <th>squared difference</th>\n",
       "      <th>square_difference / expected</th>\n",
       "    </tr>\n",
       "  </thead>\n",
       "  <tbody>\n",
       "    <tr>\n",
       "      <th>Monday</th>\n",
       "      <td>50</td>\n",
       "      <td>50</td>\n",
       "      <td>0</td>\n",
       "      <td>0</td>\n",
       "      <td>0.00</td>\n",
       "    </tr>\n",
       "    <tr>\n",
       "      <th>Tuesday</th>\n",
       "      <td>60</td>\n",
       "      <td>50</td>\n",
       "      <td>10</td>\n",
       "      <td>100</td>\n",
       "      <td>2.00</td>\n",
       "    </tr>\n",
       "    <tr>\n",
       "      <th>Wednesday</th>\n",
       "      <td>40</td>\n",
       "      <td>50</td>\n",
       "      <td>-10</td>\n",
       "      <td>100</td>\n",
       "      <td>2.00</td>\n",
       "    </tr>\n",
       "    <tr>\n",
       "      <th>Thursday</th>\n",
       "      <td>47</td>\n",
       "      <td>50</td>\n",
       "      <td>-3</td>\n",
       "      <td>9</td>\n",
       "      <td>0.18</td>\n",
       "    </tr>\n",
       "    <tr>\n",
       "      <th>Friday</th>\n",
       "      <td>53</td>\n",
       "      <td>50</td>\n",
       "      <td>3</td>\n",
       "      <td>9</td>\n",
       "      <td>0.18</td>\n",
       "    </tr>\n",
       "  </tbody>\n",
       "</table>\n",
       "</div>"
      ],
      "text/plain": [
       "           observed_value  expected_value  difference  squared difference  \\\n",
       "Monday                 50              50           0                   0   \n",
       "Tuesday                60              50          10                 100   \n",
       "Wednesday              40              50         -10                 100   \n",
       "Thursday               47              50          -3                   9   \n",
       "Friday                 53              50           3                   9   \n",
       "\n",
       "           square_difference / expected  \n",
       "Monday                             0.00  \n",
       "Tuesday                            2.00  \n",
       "Wednesday                          2.00  \n",
       "Thursday                           0.18  \n",
       "Friday                             0.18  "
      ]
     },
     "execution_count": 11,
     "metadata": {},
     "output_type": "execute_result"
    }
   ],
   "source": [
    "df_chi_full = df_chi.copy()\n",
    "df_chi_full['difference'] = df_chi_full['observed_value'] - df_chi_full['expected_value']\n",
    "df_chi_full['squared difference'] = df_chi_full['difference'] **2\n",
    "df_chi_full['square_difference / expected'] = df_chi_full['squared difference'] / df_chi_full['expected_value']\n",
    "df_chi_full"
   ]
  },
  {
   "cell_type": "code",
   "execution_count": 12,
   "id": "eec3cc78",
   "metadata": {},
   "outputs": [
    {
     "data": {
      "image/png": "[encoded data removed]",
      "text/plain": [
       "<Figure size 1152x1152 with 4 Axes>"
      ]
     },
     "metadata": {},
     "output_type": "display_data"
    }
   ],
   "source": [
    "fig, ((ax1 ,ax2) , (ax3 , ax4)) = plt.subplots(ncols = 2,\n",
    "                                               nrows = 2,\n",
    "                                               figsize = (16,16))\n",
    "#Graph for plot 1\n",
    "df_chi.plot(kind = 'bar',\n",
    "            stacked= False,\n",
    "            ax = ax1)\n",
    "ax1.set_xticklabels(df_chi_full.index, rotation = 30)\n",
    "ax1.set_title('Actual & Expected Difference' , fontsize = 16)\n",
    "\n",
    "\n",
    "\n",
    "#Graph for plot 2\n",
    "sns.barplot(x = df_chi_full.index,\n",
    "            y = 'square_difference / expected',\n",
    "            data = df_chi_full,\n",
    "            ax = ax2)\n",
    "\n",
    "ax2.set_title('Test Statistic Value for Each Event' , fontsize = 16)\n",
    "\n",
    "\n",
    "#Graph for plot 3\n",
    "\n",
    "plt.subplot(2,2,3)\n",
    "\n",
    "x = np.arange(0, 20, 0.001)\n",
    "plt.plot(x, \n",
    "         stats.chi2.cdf(x, df=4),\n",
    "         linewidth = 4)\n",
    "plt.title('Chi Square CDF with DF = 4' , fontsize = 16);\n",
    "\n",
    "#Graph for plot 4\n",
    "\n",
    "plt.subplot(2,2,4)\n",
    "\n",
    "test_statistic = round(sum(df_chi_full['square_difference / expected']) , 4)\n",
    "limit_line = 9.49 # When percentile X-square at 0.05 with df =4\n",
    "x = np.arange(0, 20, 0.001)\n",
    "plt.plot(x, \n",
    "         stats.chi2.pdf(x, df=4),\n",
    "         linewidth = 4)\n",
    "plt.vlines(x = test_statistic,\n",
    "           ymin  = 0,\n",
    "           ymax = 0.175,\n",
    "           color = 'red',\n",
    "           linestyle = '--')\n",
    "\n",
    "plt.vlines(x = limit_line,\n",
    "           ymin  = 0,\n",
    "           ymax = 0.175,\n",
    "           color = 'green',\n",
    "           linestyle = '-')\n",
    "plt.text(x = 10, y = 0.03,\n",
    "         s = '5% of Distribution under the \\n curve to the right is 9.488')\n",
    "plt.text(x = 10, y = 0.1,\n",
    "         s = 'Reject Hypothesis if Test Statistics > 9.488')\n",
    "plt.text(x = 0, y = 0.1,\n",
    "         s = 'Fail to Reject Hypothesis \\n if Test Statistics < 9.488')\n",
    "\n",
    "\n",
    "plt.title('Chi Square Distribution with DF = 4' , fontsize = 16);"
   ]
  },
  {
   "cell_type": "markdown",
   "id": "513daa44",
   "metadata": {},
   "source": [
    "# 5.0  Draw a conclusion\n",
    "Since the p-value is not less than 0.05, we fail to reject the null hypothesis. This means we do not have sufficient evidence to say that the true distribution of customers is different from the distribution that the shop owner claimed."
   ]
  },
  {
   "cell_type": "markdown",
   "id": "ccc40d6d",
   "metadata": {},
   "source": [
    "# References\n",
    "\n",
    "- Investopedia: https://www.investopedia.com/terms/c/chi-square-statistic.asp\n",
    "- Openstax: https://openstax.org/books/statistics/pages/11-introduction \n",
    "- Wikipedia: https://en.wikipedia.org/wiki/Chi-squared_test \n",
    "- SimplyPsychology: https://www.simplypsychology.org/chi-square.html \n",
    "- Statology: https://www.statology.org/chi-square-goodness-of-fit-test/"
   ]
  }
 ],
 "metadata": {
  "kernelspec": {
   "display_name": "Python 3",
   "language": "python",
   "name": "python3"
  },
  "language_info": {
   "codemirror_mode": {
    "name": "ipython",
    "version": 3
   },
   "file_extension": ".py",
   "mimetype": "text/x-python",
   "name": "python",
   "nbconvert_exporter": "python",
   "pygments_lexer": "ipython3",
   "version": "3.8.5"
  },
  "latex_envs": {
   "LaTeX_envs_menu_present": true,
   "autoclose": false,
   "autocomplete": true,
   "bibliofile": "biblio.bib",
   "cite_by": "apalike",
   "current_citInitial": 1,
   "eqLabelWithNumbers": true,
   "eqNumInitial": 1,
   "hotkeys": {
    "equation": "Ctrl-E",
    "itemize": "Ctrl-I"
   },
   "labels_anchors": false,
   "latex_user_defs": false,
   "report_style_numbering": false,
   "user_envs_cfg": false
  }
 },
 "nbformat": 4,
 "nbformat_minor": 5
}
